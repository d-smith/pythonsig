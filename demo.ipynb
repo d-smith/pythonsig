{
 "cells": [
  {
   "cell_type": "code",
   "execution_count": null,
   "id": "50d56246-79d8-46b9-a7d5-0981a256ffe7",
   "metadata": {},
   "outputs": [],
   "source": [
    "# Eth test account addresses\n",
    "ACCT0='0x892BB2e4F6b14a2B5b82Ba8d33E5925D42D4431F'\n",
    "ACCT1='0x9949f7e672a568bB3EBEB777D5e8D1c1107e96E5'\n",
    "ACCT2='0x835F0Aa692b8eBCdEa8E64742e5Bce30303669c2'\n",
    "ACCT3='0x7bA7d161F9E8B707694f434d65c218a1F0853B1C'\n",
    "ACCT4='0xB4C3D79CDC0eb7A8576a8bf224Bbc6Bec790c320'\n",
    "ACCT5='0x5Ad35F89D8C1d03089BDe2578Ce43883E3f2A7B0'\n",
    "ACCT6='0x0234643975F308b76d1241897e7d70b02C155daa'\n",
    "ACCT7='0x5199524B11e801c52161CA76dB9BFD72f4a4E1E1'\n",
    "ACCT8='0x549381D65fe61046911d11743D5c0941Ed704640'\n",
    "ACCT9='0x73dA1eD554De26C467d97ADE090af6d52851745E'"
   ]
  },
  {
   "cell_type": "code",
   "execution_count": null,
   "id": "767b82a6-51a9-430c-94d1-b3a1d9553253",
   "metadata": {},
   "outputs": [],
   "source": [
    "# Eth test account private keys\n",
    "ACCT0KEY='0xcb1a18dff8cfcee16202bf86f1f89f8b3881107b8192cd06836fda9dbc0fde1b'\n",
    "ACCT1KEY='0xa54f24f80839b659fc44fbb19492507bc734ea572f6f5672787cd8e9a198bf28'\n",
    "ACCT2KEY='0x824f9e081f93102ca26e9e696bb6804079a5e4e3fca3a05216e2b6e0538fcab9'\n",
    "ACCT3KEY='0x3e56e9b2db8389123a03816c37dd4515e07077483fbe865156a2d8f6003b6725'\n",
    "ACCT4KEY='0xca55c5904f97405816f8d24c5e7810aaec2aa347ea0e1f920f19eca05669ae7b'\n",
    "ACCT5KEY='0x6100006a16d6a0fd065f62165e64d412920afd0e8fc59956ad7a9116e363b72e'\n",
    "ACCT6KEY='0x55b0e7919eb08e618dbddf025341094eefc0db60244736c1faac1412d68868f3'\n",
    "ACCT7KEY='0x81b475051c4686cffe815e50216a9bac397c0e5d9108170823b290d41823fa8a'\n",
    "ACCT8KEY='0xc3599ced1484dc8eccbb477cf8c318ca48ef1f2aac81a10a3774fe40d3b678de'\n",
    "ACCT9KEY='0xf9832eeac47db42efeb2eca01e6479bfde00fda8fdd0624d45efd0e4b9ddcd3b'"
   ]
  },
  {
   "cell_type": "code",
   "execution_count": null,
   "id": "5aa491a0-51e2-4333-a80b-9088c45a7bc3",
   "metadata": {},
   "outputs": [],
   "source": [
    "# Eth deployment account\n",
    "print('export DEPLOYER_KEY={}'.format(ACCT0KEY))"
   ]
  },
  {
   "cell_type": "code",
   "execution_count": null,
   "id": "b444f857-0e44-4f96-b96d-02dd7fa13a0a",
   "metadata": {},
   "outputs": [],
   "source": [
    "home = ! echo $HOME\n",
    "exec_home = home[0] + '/code/pythonsig'\n",
    "print(exec_home)"
   ]
  },
  {
   "cell_type": "code",
   "execution_count": null,
   "id": "01977361-420b-42f7-9fbe-9bce37a7d8e7",
   "metadata": {},
   "outputs": [],
   "source": [
    "# Sig deployment\n",
    "!cd {exec_home} && DEPLOYER_KEY={ACCT0KEY} forge script script/Deploy.s.sol:SigScript --broadcast --rpc-url http://127.0.0.1:8545 --extra-output-files abi --extra-output-files bin\n"
   ]
  },
  {
   "cell_type": "code",
   "execution_count": null,
   "id": "52aa5931-f6ec-4f1b-b50b-5afe8dc9f88e",
   "metadata": {},
   "outputs": [],
   "source": [
    "# NOTE: MANUALLY SET THIS FROM THE CONTRACT ADDRESS IN THE PRIOR CELL OUTPUT\n",
    "SIG_ADDR = '0x389B318c8650225a0E2A3310DB59Dd72eA043f30'"
   ]
  },
  {
   "cell_type": "code",
   "execution_count": null,
   "id": "b3ee9fee-52e7-4e8f-bad3-e2574ad99135",
   "metadata": {},
   "outputs": [],
   "source": [
    "messageBytesHex = '000000000000000100000002000000000000000000000000000000000000000001258a63107a2d668095664c190fec2ed723ef4d000000000000000000000000d1944464ce8eb947f58d0d0bf7df4a49687aad75000000000000000000000000000000000000000000000000000000000000000000000000000000000000000000000000db98a5bfba239000213813b2615b8a96e950a79b74cfa0b74bb380dbf4adfab2e99287c4e21b01eb00000000000000000000000000000000000000000000000000000000000000000000000000000000000000010000000000000000000000009949f7e672a568bb3ebeb777d5e8d1c1107e96e5'"
   ]
  },
  {
   "cell_type": "code",
   "execution_count": null,
   "id": "5d3f6bb9-0abb-4b7a-bb7e-4deb53a4782a",
   "metadata": {},
   "outputs": [],
   "source": [
    "messageBytes = bytes(bytearray.fromhex(messageBytesHex))\n",
    "messageBytes"
   ]
  },
  {
   "cell_type": "code",
   "execution_count": null,
   "id": "4396d45e-f372-4836-8dfa-8077bddd04de",
   "metadata": {},
   "outputs": [],
   "source": [
    "from web3 import Web3\n",
    "from eth_account.messages import encode_defunct\n",
    "w3 = Web3(Web3.HTTPProvider('http://127.0.0.1:8545'))"
   ]
  },
  {
   "cell_type": "code",
   "execution_count": null,
   "id": "1ac49395-1088-43e1-aa8f-2cc7da7b244d",
   "metadata": {},
   "outputs": [],
   "source": [
    "# Start with the message bytes\n",
    "# Hash the message bytes\n",
    "mbHash = Web3.keccak(messageBytes)\n",
    "print(mbHash)\n",
    "\n",
    "# Sign the hash of the bytes\n",
    "signedHash = w3.eth.account.signHash(mbHash, private_key=ACCT0KEY)\n",
    "print(signedHash)"
   ]
  },
  {
   "cell_type": "code",
   "execution_count": null,
   "id": "4be91cfb-b172-4e6c-b2bc-9908bfa4d685",
   "metadata": {},
   "outputs": [],
   "source": [
    "sigAbiFile = home[0] + '/code/pythonsig/out/Sig.sol/Sig.json'\n",
    "sigAbiFile"
   ]
  },
  {
   "cell_type": "code",
   "execution_count": null,
   "id": "2f818064-8b38-4fc1-ae1d-5f804230a1cb",
   "metadata": {},
   "outputs": [],
   "source": [
    "import json\n",
    "\n",
    "with open(sigAbiFile) as f:\n",
    "    sig_json = json.load(f)\n",
    "\n",
    "sigAbi = sig_json['abi']\n",
    "print(sigAbi)"
   ]
  },
  {
   "cell_type": "code",
   "execution_count": null,
   "id": "93a369e1-3bfa-4968-bde4-9193b99a64e4",
   "metadata": {},
   "outputs": [],
   "source": [
    "sig = w3.eth.contract(address=SIG_ADDR, abi=sigAbi)"
   ]
  },
  {
   "cell_type": "code",
   "execution_count": null,
   "id": "4c0e42fe-9ca5-42e4-84f0-80b8e656521a",
   "metadata": {},
   "outputs": [],
   "source": [
    "recovered = sig.functions.validateAttestation(messageBytes, signedHash.signature).call()\n",
    "print(recovered)"
   ]
  },
  {
   "cell_type": "code",
   "execution_count": null,
   "id": "221bf279-1f86-4fee-9748-2ec0fcc5e7e9",
   "metadata": {},
   "outputs": [],
   "source": [
    "ACCT0 == recovered"
   ]
  },
  {
   "cell_type": "code",
   "execution_count": null,
   "id": "654708b6-a000-44ed-921e-9479d1b4698f",
   "metadata": {},
   "outputs": [],
   "source": []
  }
 ],
 "metadata": {
  "kernelspec": {
   "display_name": "Python 3 (ipykernel)",
   "language": "python",
   "name": "python3"
  },
  "language_info": {
   "codemirror_mode": {
    "name": "ipython",
    "version": 3
   },
   "file_extension": ".py",
   "mimetype": "text/x-python",
   "name": "python",
   "nbconvert_exporter": "python",
   "pygments_lexer": "ipython3",
   "version": "3.8.10"
  }
 },
 "nbformat": 4,
 "nbformat_minor": 5
}
