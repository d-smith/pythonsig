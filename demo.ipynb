{
 "cells": [
  {
   "cell_type": "code",
   "execution_count": 1,
   "id": "50d56246-79d8-46b9-a7d5-0981a256ffe7",
   "metadata": {},
   "outputs": [],
   "source": [
    "# Eth test account addresses\n",
    "ACCT0='0x892BB2e4F6b14a2B5b82Ba8d33E5925D42D4431F'\n",
    "ACCT1='0x9949f7e672a568bB3EBEB777D5e8D1c1107e96E5'\n",
    "ACCT2='0x835F0Aa692b8eBCdEa8E64742e5Bce30303669c2'\n",
    "ACCT3='0x7bA7d161F9E8B707694f434d65c218a1F0853B1C'\n",
    "ACCT4='0xB4C3D79CDC0eb7A8576a8bf224Bbc6Bec790c320'\n",
    "ACCT5='0x5Ad35F89D8C1d03089BDe2578Ce43883E3f2A7B0'\n",
    "ACCT6='0x0234643975F308b76d1241897e7d70b02C155daa'\n",
    "ACCT7='0x5199524B11e801c52161CA76dB9BFD72f4a4E1E1'\n",
    "ACCT8='0x549381D65fe61046911d11743D5c0941Ed704640'\n",
    "ACCT9='0x73dA1eD554De26C467d97ADE090af6d52851745E'"
   ]
  },
  {
   "cell_type": "code",
   "execution_count": 2,
   "id": "767b82a6-51a9-430c-94d1-b3a1d9553253",
   "metadata": {},
   "outputs": [],
   "source": [
    "# Eth test account private keys\n",
    "ACCT0KEY='0xcb1a18dff8cfcee16202bf86f1f89f8b3881107b8192cd06836fda9dbc0fde1b'\n",
    "ACCT1KEY='0xa54f24f80839b659fc44fbb19492507bc734ea572f6f5672787cd8e9a198bf28'\n",
    "ACCT2KEY='0x824f9e081f93102ca26e9e696bb6804079a5e4e3fca3a05216e2b6e0538fcab9'\n",
    "ACCT3KEY='0x3e56e9b2db8389123a03816c37dd4515e07077483fbe865156a2d8f6003b6725'\n",
    "ACCT4KEY='0xca55c5904f97405816f8d24c5e7810aaec2aa347ea0e1f920f19eca05669ae7b'\n",
    "ACCT5KEY='0x6100006a16d6a0fd065f62165e64d412920afd0e8fc59956ad7a9116e363b72e'\n",
    "ACCT6KEY='0x55b0e7919eb08e618dbddf025341094eefc0db60244736c1faac1412d68868f3'\n",
    "ACCT7KEY='0x81b475051c4686cffe815e50216a9bac397c0e5d9108170823b290d41823fa8a'\n",
    "ACCT8KEY='0xc3599ced1484dc8eccbb477cf8c318ca48ef1f2aac81a10a3774fe40d3b678de'\n",
    "ACCT9KEY='0xf9832eeac47db42efeb2eca01e6479bfde00fda8fdd0624d45efd0e4b9ddcd3b'"
   ]
  },
  {
   "cell_type": "code",
   "execution_count": 3,
   "id": "5aa491a0-51e2-4333-a80b-9088c45a7bc3",
   "metadata": {},
   "outputs": [
    {
     "name": "stdout",
     "output_type": "stream",
     "text": [
      "export DEPLOYER_KEY=0xcb1a18dff8cfcee16202bf86f1f89f8b3881107b8192cd06836fda9dbc0fde1b\n"
     ]
    }
   ],
   "source": [
    "# Eth deployment account\n",
    "print('export DEPLOYER_KEY={}'.format(ACCT0KEY))"
   ]
  },
  {
   "cell_type": "code",
   "execution_count": 15,
   "id": "b444f857-0e44-4f96-b96d-02dd7fa13a0a",
   "metadata": {},
   "outputs": [
    {
     "name": "stdout",
     "output_type": "stream",
     "text": [
      "/home/dsmith/code/pythonsig\n"
     ]
    }
   ],
   "source": [
    "home = ! echo $HOME\n",
    "exec_home = home[0] + '/code/pythonsig'\n",
    "print(exec_home)"
   ]
  },
  {
   "cell_type": "code",
   "execution_count": 6,
   "id": "01977361-420b-42f7-9fbe-9bce37a7d8e7",
   "metadata": {},
   "outputs": [
    {
     "name": "stdout",
     "output_type": "stream",
     "text": [
      "\u001b[1m[\u001b[32m⠃\u001b[0m]\u001b[0m Compiling...\n",
      "\u001b[1m[\u001b[32m⠑\u001b[0m]\u001b[0m Compiling 17 files with 0.7.6\n",
      "\u001b[1m[\u001b[32m⠢\u001b[0m]\u001b[0m Solc 0.7.6 finished in 3.73s\n",
      "Compiler run \u001b[33msuccessful with warnings:\u001b[0m\n",
      "\u001b[1;33mWarning (3420)\u001b[0m\u001b[1;37m: Source file does not specify required compiler version! Consider adding \"pragma solidity ^0.7.6;\"\u001b[0m\n",
      "\u001b[1;33mWarning (2018)\u001b[0m\u001b[1;37m: Function state mutability can be restricted to pure\u001b[0m\n",
      "    function  validateAttestation(\n",
      "    ^ (Relevant source part starts here and spans across multiple lines).\n",
      "\u001b[32mScript ran successfully.\u001b[0m\n",
      "\u001b[33m\n",
      "EIP-3855 is not supported in one or more of the RPCs used.\n",
      "Unsupported Chain IDs: 31337.\n",
      "Contracts deployed with a Solidity version equal or higher than 0.8.20 might not work properly.\n",
      "For more information, please see https://eips.ethereum.org/EIPS/eip-3855\u001b[0m\n",
      "\n",
      "## Setting up (1) EVMs.\n",
      "\n",
      "==========================\n",
      "\n",
      "Chain 31337\n",
      "\n",
      "Estimated gas price: 3.866683888 gwei\n",
      "\n",
      "Estimated total gas used for script: 381704\n",
      "\n",
      "Estimated amount required: 0.001475928706785152 ETH\n",
      "\n",
      "==========================\n",
      "\n",
      "###\n",
      "Finding wallets for all the necessary addresses...\n",
      "##\n",
      "Sending transactions [0 - 0].\n",
      "\u001b[32m⠁\u001b[0m [00:00:00] [\u001b[36m#################################################\u001b[34m\u001b[0m\u001b[0m] 1/1 txes (0.0s)\n",
      "Transactions saved to: /home/dsmith/code/pythonsig/broadcast/Deploy.s.sol/31337/run-latest.json\n",
      "\n",
      "Sensitive values saved to: /home/dsmith/code/pythonsig/cache/Deploy.s.sol/31337/run-latest.json\n",
      "\n",
      "##\n",
      "Waiting for receipts.\n",
      "\u001b[2K\u001b[32m⠉\u001b[0m [00:00:00] [\u001b[36m#############################################\u001b[34m\u001b[0m\u001b[0m] 1/1 receipts (0.0s)\n",
      "##### anvil-hardhat\n",
      "✅  [Success]Hash: 0x1297bee14f55a23c90f40e7f00b04a1bb30b317b314973709c118748fc5377d3\n",
      "Contract Address: 0xAc5e8A02a02eE94315AAa421e98C8DE833CE2fe2\n",
      "Block: 9\n",
      "Paid: 0.000992306676736932 ETH (293619 gas * 3.379572428 gwei)\n",
      "\n",
      "\u001b[2K\n",
      "Transactions saved to: /home/dsmith/code/pythonsig/broadcast/Deploy.s.sol/31337/run-latest.json\n",
      "\n",
      "Sensitive values saved to: /home/dsmith/code/pythonsig/cache/Deploy.s.sol/31337/run-latest.json\n",
      "\n",
      "\u001b[2K\n",
      "\n",
      "==========================\n",
      "\n",
      "ONCHAIN EXECUTION COMPLETE & SUCCESSFUL.\n",
      "Total Paid: 0.000992306676736932 ETH (293619 gas * avg 3.379572428 gwei)\n",
      "\n",
      "Transactions saved to: /home/dsmith/code/pythonsig/broadcast/Deploy.s.sol/31337/run-latest.json\n",
      "\n",
      "Sensitive values saved to: /home/dsmith/code/pythonsig/cache/Deploy.s.sol/31337/run-latest.json\n",
      "\n"
     ]
    }
   ],
   "source": [
    "# Sig deployment\n",
    "!cd {exec_home} && DEPLOYER_KEY={ACCT0KEY} forge script script/Deploy.s.sol:SigScript --broadcast --rpc-url http://127.0.0.1:8545 --extra-output-files abi --extra-output-files bin\n"
   ]
  },
  {
   "cell_type": "code",
   "execution_count": 23,
   "id": "52aa5931-f6ec-4f1b-b50b-5afe8dc9f88e",
   "metadata": {},
   "outputs": [],
   "source": [
    "# From the above output\n",
    "SIG_ADDR = '0xAc5e8A02a02eE94315AAa421e98C8DE833CE2fe2'"
   ]
  },
  {
   "cell_type": "code",
   "execution_count": 4,
   "id": "b3ee9fee-52e7-4e8f-bad3-e2574ad99135",
   "metadata": {},
   "outputs": [],
   "source": [
    "messageBytesHex = '000000000000000100000002000000000000000000000000000000000000000001258a63107a2d668095664c190fec2ed723ef4d000000000000000000000000d1944464ce8eb947f58d0d0bf7df4a49687aad75000000000000000000000000000000000000000000000000000000000000000000000000000000000000000000000000db98a5bfba239000213813b2615b8a96e950a79b74cfa0b74bb380dbf4adfab2e99287c4e21b01eb00000000000000000000000000000000000000000000000000000000000000000000000000000000000000010000000000000000000000009949f7e672a568bb3ebeb777d5e8d1c1107e96e5'"
   ]
  },
  {
   "cell_type": "code",
   "execution_count": 5,
   "id": "7c54165f-cb66-4c18-b03e-040341ceb6b4",
   "metadata": {},
   "outputs": [
    {
     "data": {
      "text/plain": [
       "'000000000000000100000002000000000000000000000000000000000000000001258a63107a2d668095664c190fec2ed723ef4d000000000000000000000000d1944464ce8eb947f58d0d0bf7df4a49687aad75000000000000000000000000000000000000000000000000000000000000000000000000000000000000000000000000db98a5bfba239000213813b2615b8a96e950a79b74cfa0b74bb380dbf4adfab2e99287c4e21b01eb00000000000000000000000000000000000000000000000000000000000000000000000000000000000000010000000000000000000000009949f7e672a568bb3ebeb777d5e8d1c1107e96e5'"
      ]
     },
     "execution_count": 5,
     "metadata": {},
     "output_type": "execute_result"
    }
   ],
   "source": [
    "messageBytesHex"
   ]
  },
  {
   "cell_type": "code",
   "execution_count": 12,
   "id": "5d3f6bb9-0abb-4b7a-bb7e-4deb53a4782a",
   "metadata": {},
   "outputs": [
    {
     "data": {
      "text/plain": [
       "b'\\x00\\x00\\x00\\x00\\x00\\x00\\x00\\x01\\x00\\x00\\x00\\x02\\x00\\x00\\x00\\x00\\x00\\x00\\x00\\x00\\x00\\x00\\x00\\x00\\x00\\x00\\x00\\x00\\x00\\x00\\x00\\x00\\x01%\\x8ac\\x10z-f\\x80\\x95fL\\x19\\x0f\\xec.\\xd7#\\xefM\\x00\\x00\\x00\\x00\\x00\\x00\\x00\\x00\\x00\\x00\\x00\\x00\\xd1\\x94Dd\\xce\\x8e\\xb9G\\xf5\\x8d\\r\\x0b\\xf7\\xdfJIhz\\xadu\\x00\\x00\\x00\\x00\\x00\\x00\\x00\\x00\\x00\\x00\\x00\\x00\\x00\\x00\\x00\\x00\\x00\\x00\\x00\\x00\\x00\\x00\\x00\\x00\\x00\\x00\\x00\\x00\\x00\\x00\\x00\\x00\\x00\\x00\\x00\\x00\\x00\\x00\\x00\\x00\\x00\\x00\\x00\\x00\\x00\\x00\\x00\\x00\\xdb\\x98\\xa5\\xbf\\xba#\\x90\\x00!8\\x13\\xb2a[\\x8a\\x96\\xe9P\\xa7\\x9bt\\xcf\\xa0\\xb7K\\xb3\\x80\\xdb\\xf4\\xad\\xfa\\xb2\\xe9\\x92\\x87\\xc4\\xe2\\x1b\\x01\\xeb\\x00\\x00\\x00\\x00\\x00\\x00\\x00\\x00\\x00\\x00\\x00\\x00\\x00\\x00\\x00\\x00\\x00\\x00\\x00\\x00\\x00\\x00\\x00\\x00\\x00\\x00\\x00\\x00\\x00\\x00\\x00\\x00\\x00\\x00\\x00\\x00\\x00\\x00\\x00\\x00\\x00\\x00\\x00\\x01\\x00\\x00\\x00\\x00\\x00\\x00\\x00\\x00\\x00\\x00\\x00\\x00\\x99I\\xf7\\xe6r\\xa5h\\xbb>\\xbe\\xb7w\\xd5\\xe8\\xd1\\xc1\\x10~\\x96\\xe5'"
      ]
     },
     "execution_count": 12,
     "metadata": {},
     "output_type": "execute_result"
    }
   ],
   "source": [
    "messageBytes = bytes(bytearray.fromhex(messageBytesHex))\n",
    "messageBytes"
   ]
  },
  {
   "cell_type": "code",
   "execution_count": 13,
   "id": "62459f6c-2dd9-45ce-b21c-ce37448cf8bd",
   "metadata": {},
   "outputs": [],
   "source": [
    "from web3 import Web3\n",
    "from eth_account.messages import encode_defunct\n",
    "w3 = Web3(Web3.HTTPProvider('http://127.0.0.1:8545'))\n",
    "message = encode_defunct(Web3.keccak(messageBytes))\n",
    "signedMessage = w3.eth.account.sign_message(message, private_key=ACCT0KEY)"
   ]
  },
  {
   "cell_type": "code",
   "execution_count": 20,
   "id": "4be91cfb-b172-4e6c-b2bc-9908bfa4d685",
   "metadata": {},
   "outputs": [
    {
     "data": {
      "text/plain": [
       "'/home/dsmith/code/pythonsig/out/Sig.sol/Sig.json'"
      ]
     },
     "execution_count": 20,
     "metadata": {},
     "output_type": "execute_result"
    }
   ],
   "source": [
    "sigAbiFile = home[0] + '/code/pythonsig/out/Sig.sol/Sig.json'\n",
    "sigAbiFile"
   ]
  },
  {
   "cell_type": "code",
   "execution_count": 21,
   "id": "2f818064-8b38-4fc1-ae1d-5f804230a1cb",
   "metadata": {},
   "outputs": [
    {
     "name": "stdout",
     "output_type": "stream",
     "text": [
      "[{'inputs': [{'internalType': 'bytes', 'name': 'message', 'type': 'bytes'}, {'internalType': 'bytes', 'name': 'signature', 'type': 'bytes'}], 'name': 'validateAttestation', 'outputs': [{'internalType': 'address', 'name': '', 'type': 'address'}], 'stateMutability': 'view', 'type': 'function'}]\n"
     ]
    }
   ],
   "source": [
    "import json\n",
    "\n",
    "with open(sigAbiFile) as f:\n",
    "    sig_json = json.load(f)\n",
    "\n",
    "sigAbi = sig_json['abi']\n",
    "print(sigAbi)"
   ]
  },
  {
   "cell_type": "code",
   "execution_count": 24,
   "id": "93a369e1-3bfa-4968-bde4-9193b99a64e4",
   "metadata": {},
   "outputs": [],
   "source": [
    "sig = w3.eth.contract(address=SIG_ADDR, abi=sigAbi)"
   ]
  },
  {
   "cell_type": "code",
   "execution_count": 30,
   "id": "41da29f0-6224-4666-a159-648486367b0a",
   "metadata": {},
   "outputs": [
    {
     "name": "stdout",
     "output_type": "stream",
     "text": [
      "0x5D38C706E47a86c4A73D314D48741C00D5d50bDa\n"
     ]
    }
   ],
   "source": [
    "recovered = sig.functions.validateAttestation(messageBytes, signedMessage.signature).call()\n",
    "print(recovered)"
   ]
  },
  {
   "cell_type": "code",
   "execution_count": 32,
   "id": "f33176d3-4b76-440a-90b4-e799df7a314a",
   "metadata": {},
   "outputs": [
    {
     "data": {
      "text/plain": [
       "False"
      ]
     },
     "execution_count": 32,
     "metadata": {},
     "output_type": "execute_result"
    }
   ],
   "source": [
    "ACCT0 == recovered"
   ]
  },
  {
   "cell_type": "code",
   "execution_count": null,
   "id": "5b333c84-5505-4499-a88b-6b62ce2341b3",
   "metadata": {},
   "outputs": [],
   "source": []
  }
 ],
 "metadata": {
  "kernelspec": {
   "display_name": "Python 3 (ipykernel)",
   "language": "python",
   "name": "python3"
  },
  "language_info": {
   "codemirror_mode": {
    "name": "ipython",
    "version": 3
   },
   "file_extension": ".py",
   "mimetype": "text/x-python",
   "name": "python",
   "nbconvert_exporter": "python",
   "pygments_lexer": "ipython3",
   "version": "3.8.10"
  }
 },
 "nbformat": 4,
 "nbformat_minor": 5
}
